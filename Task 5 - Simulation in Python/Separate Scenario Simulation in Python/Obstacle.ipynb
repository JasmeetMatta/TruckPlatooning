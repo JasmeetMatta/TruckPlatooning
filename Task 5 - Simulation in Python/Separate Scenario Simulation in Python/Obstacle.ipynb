{
  "nbformat": 4,
  "nbformat_minor": 0,
  "metadata": {
    "colab": {
      "provenance": [],
      "authorship_tag": "ABX9TyMAJzVR++/zwq+fM4Ool67v",
      "include_colab_link": true
    },
    "kernelspec": {
      "name": "python3",
      "display_name": "Python 3"
    },
    "language_info": {
      "name": "python"
    }
  },
  "cells": [
    {
      "cell_type": "markdown",
      "metadata": {
        "id": "view-in-github",
        "colab_type": "text"
      },
      "source": [
        "<a href=\"https://colab.research.google.com/github/JasmeetMatta/TruckPlatooning/blob/main/Scenario%20Python/Task%205/ObstacleUpdate.ipynb\" target=\"_parent\"><img src=\"https://colab.research.google.com/assets/colab-badge.svg\" alt=\"Open In Colab\"/></a>"
      ]
    },
    {
      "cell_type": "code",
      "execution_count": 3,
      "metadata": {
        "id": "Ofva-1U4MvCP"
      },
      "outputs": [],
      "source": [
        "import random\n",
        "\n",
        "\n",
        "# Max = 120\n",
        "# slow = 80\n",
        "# stop = 0\n",
        "\n",
        "\n",
        "# class randomObject: # should create it as a function in leaderClass\n",
        "#   def __init__(self):\n",
        "\n",
        "\n",
        "#safe distance 20m ?\n",
        "\n",
        "class LeaderVehicle:\n",
        "  def __init__(self):\n",
        "    self.state = \"Leading\"\n",
        "    self.speed = \"Max\" #Max for maximum allowed, slow for slowing down, stop if speed is 0\n",
        "    self.pedalState = \"noBrake\"\n",
        "    self.breakDistance = 0\n",
        "\n",
        "  def randomObject(self):\n",
        "    return random.randint(0, 2)  # Generate a number: 0 = no object, 1 = slow down, 2 = stop\n",
        "\n",
        "  def Lead(self):\n",
        "    obstacle = self.randomObject()\n",
        "    if obstacle == 0:\n",
        "        self.speed = \"Max\"\n",
        "        self.pedalState = \"noBrake\"\n",
        "        self.breakDistance = 0\n",
        "        obstacle = self.randomObject()\n",
        "    elif obstacle == 1:\n",
        "        self.speed = \"slow - Same speed as vehicle ahead\"\n",
        "        self.pedalState = \"lightBrake\"\n",
        "        self.breakDistance = 0\n",
        "        obstacle = self.randomObject()\n",
        "    elif obstacle == 2:\n",
        "        self.speed = \"stop\"\n",
        "        self.pedalState = \"hardBrake\"\n",
        "        self.breakDistance = 5\n",
        "        obstacle = self.randomObject()\n",
        "\n",
        "    # create a random object with specific distance in front of the truck and give it a variable speed or just create instances and select random instances and act according to it\n",
        "    # creating random instances is good. may be create a fun within the leader class itself\n",
        "\n",
        "\n",
        "class FollowerVehicles(LeaderVehicle): # to check if i can give leader state directly into initiazation.\n",
        "  def __init__(self,leader):\n",
        "    super().__init__()\n",
        "    self.state = \"Follower\"\n",
        "    self.speed = leader.speed\n",
        "    self.pedalState = leader.pedalState\n",
        "    self.breakDistance = leader.breakDistance\n",
        "\n",
        "  def follow(self, leader):\n",
        "    self.speed = leader.speed\n",
        "    self.pedalState = leader.pedalState\n",
        "    self.breakDistance = leader.breakDistance\n",
        "    # to update after the leader lead function has been called\n",
        "\n",
        "\n"
      ]
    },
    {
      "cell_type": "markdown",
      "source": [
        "Cration of random instances Idea -->  \n",
        "\n",
        "\n",
        "Generate a random number between 0 and 2\n",
        "\n",
        "if its 0 -- > there is no object wait for loop to run some time and then regenerate\n",
        "\n",
        "if its 1 --> there is a safe distance between the object and our truck we just need to slow down, wait again for some time to generate random number to simualte further behaviour\n",
        "\n",
        "if its 2 --> the truck needs to apply break and wait till the object is gone for real world scenario lets apply break time to be 3s and we will wait for some time - 3 s to generate another random number and we will do it in loop."
      ],
      "metadata": {
        "id": "aAkDUmhUfiYf"
      }
    },
    {
      "cell_type": "markdown",
      "source": [
        "This random genertaion should be in class lead truck for easy implementation or in main in loop and call the calss function recursively.\n",
        "\n",
        "Need to see how to sync follower vehicle after the lead vehicle."
      ],
      "metadata": {
        "id": "UjKVZN4DgbNl"
      }
    },
    {
      "cell_type": "code",
      "source": [
        "followerTrucks = 3\n",
        "\n",
        "\n",
        "leader = LeaderVehicle()\n",
        "followers = [FollowerVehicles(leader) for i in range(1, followerTrucks+1)]\n",
        "def main():\n",
        "    for i in range(10):\n",
        "        leader.Lead()\n",
        "        print(f\"Leader: Speed={leader.speed}, Pedal={leader.pedalState}, BreakDistance={leader.breakDistance}\")\n",
        "\n",
        "        for i, follower in enumerate(followers, 1):\n",
        "            follower.follow(leader)\n",
        "            print(f\"Follower {i}: Speed={follower.speed}, Pedal={follower.pedalState}, BreakDistance={follower.breakDistance}\")\n",
        "main()"
      ],
      "metadata": {
        "id": "SnafXWxrPRla",
        "colab": {
          "base_uri": "https://localhost:8080/"
        },
        "outputId": "88e2bcc1-355f-4441-ed44-0f5c9ee87edf"
      },
      "execution_count": 5,
      "outputs": [
        {
          "output_type": "stream",
          "name": "stdout",
          "text": [
            "Leader: Speed=slow - Same speed as vehicle ahead, Pedal=lightBrake, BreakDistance=0\n",
            "Follower 1: Speed=slow - Same speed as vehicle ahead, Pedal=lightBrake, BreakDistance=0\n",
            "Follower 2: Speed=slow - Same speed as vehicle ahead, Pedal=lightBrake, BreakDistance=0\n",
            "Follower 3: Speed=slow - Same speed as vehicle ahead, Pedal=lightBrake, BreakDistance=0\n",
            "Leader: Speed=slow - Same speed as vehicle ahead, Pedal=lightBrake, BreakDistance=0\n",
            "Follower 1: Speed=slow - Same speed as vehicle ahead, Pedal=lightBrake, BreakDistance=0\n",
            "Follower 2: Speed=slow - Same speed as vehicle ahead, Pedal=lightBrake, BreakDistance=0\n",
            "Follower 3: Speed=slow - Same speed as vehicle ahead, Pedal=lightBrake, BreakDistance=0\n",
            "Leader: Speed=stop, Pedal=hardBrake, BreakDistance=5\n",
            "Follower 1: Speed=stop, Pedal=hardBrake, BreakDistance=5\n",
            "Follower 2: Speed=stop, Pedal=hardBrake, BreakDistance=5\n",
            "Follower 3: Speed=stop, Pedal=hardBrake, BreakDistance=5\n",
            "Leader: Speed=stop, Pedal=hardBrake, BreakDistance=5\n",
            "Follower 1: Speed=stop, Pedal=hardBrake, BreakDistance=5\n",
            "Follower 2: Speed=stop, Pedal=hardBrake, BreakDistance=5\n",
            "Follower 3: Speed=stop, Pedal=hardBrake, BreakDistance=5\n",
            "Leader: Speed=Max, Pedal=noBrake, BreakDistance=0\n",
            "Follower 1: Speed=Max, Pedal=noBrake, BreakDistance=0\n",
            "Follower 2: Speed=Max, Pedal=noBrake, BreakDistance=0\n",
            "Follower 3: Speed=Max, Pedal=noBrake, BreakDistance=0\n",
            "Leader: Speed=slow - Same speed as vehicle ahead, Pedal=lightBrake, BreakDistance=0\n",
            "Follower 1: Speed=slow - Same speed as vehicle ahead, Pedal=lightBrake, BreakDistance=0\n",
            "Follower 2: Speed=slow - Same speed as vehicle ahead, Pedal=lightBrake, BreakDistance=0\n",
            "Follower 3: Speed=slow - Same speed as vehicle ahead, Pedal=lightBrake, BreakDistance=0\n",
            "Leader: Speed=stop, Pedal=hardBrake, BreakDistance=5\n",
            "Follower 1: Speed=stop, Pedal=hardBrake, BreakDistance=5\n",
            "Follower 2: Speed=stop, Pedal=hardBrake, BreakDistance=5\n",
            "Follower 3: Speed=stop, Pedal=hardBrake, BreakDistance=5\n",
            "Leader: Speed=Max, Pedal=noBrake, BreakDistance=0\n",
            "Follower 1: Speed=Max, Pedal=noBrake, BreakDistance=0\n",
            "Follower 2: Speed=Max, Pedal=noBrake, BreakDistance=0\n",
            "Follower 3: Speed=Max, Pedal=noBrake, BreakDistance=0\n",
            "Leader: Speed=Max, Pedal=noBrake, BreakDistance=0\n",
            "Follower 1: Speed=Max, Pedal=noBrake, BreakDistance=0\n",
            "Follower 2: Speed=Max, Pedal=noBrake, BreakDistance=0\n",
            "Follower 3: Speed=Max, Pedal=noBrake, BreakDistance=0\n",
            "Leader: Speed=stop, Pedal=hardBrake, BreakDistance=5\n",
            "Follower 1: Speed=stop, Pedal=hardBrake, BreakDistance=5\n",
            "Follower 2: Speed=stop, Pedal=hardBrake, BreakDistance=5\n",
            "Follower 3: Speed=stop, Pedal=hardBrake, BreakDistance=5\n"
          ]
        }
      ]
    }
  ]
}