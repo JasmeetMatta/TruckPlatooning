{
  "nbformat": 4,
  "nbformat_minor": 0,
  "metadata": {
    "colab": {
      "provenance": []
    },
    "kernelspec": {
      "name": "python3",
      "display_name": "Python 3"
    },
    "language_info": {
      "name": "python"
    }
  },
  "cells": [
    {
      "cell_type": "code",
      "source": [
        "import time\n",
        "import random\n",
        "\n",
        "class TruckPlatooning:\n",
        "    def __init__(self):\n",
        "        self.leftLaneAvailable = True\n",
        "        self.rightLaneAvailable = True\n",
        "        self.currentLane = 'Start'\n",
        "\n",
        "    def change_to_left_lane(self):\n",
        "        if self.leftLaneAvailable:\n",
        "            self.currentLane = 'Left_Lane'\n",
        "            print(\"Changed to left lane.\")\n",
        "            self.rightLaneAvailable = True\n",
        "\n",
        "    def change_to_right_lane(self):\n",
        "        if self.rightLaneAvailable:\n",
        "            self.currentLane = 'Right_Lane'\n",
        "            print(\"Changed to right lane.\")\n",
        "            self.leftLaneAvailable = True\n",
        "\n",
        "    def return_to_lane(self):\n",
        "        self.currentLane = 'In_Lane'\n",
        "        print(\"Returned to main lane.\")\n",
        "\n",
        "    def simulate(self):\n",
        "        print(f\"Current Lane: {self.currentLane}\")\n",
        "        if random.choice([True, False]):\n",
        "            self.change_to_right_lane()\n",
        "        else:\n",
        "            self.change_to_left_lane()\n",
        "        time.sleep(1)  # Wait for 1 second before the next action\n",
        "        self.return_to_lane()\n",
        "        time.sleep(1)  # Wait for 1 second before the next cycle\n",
        "\n",
        "def main_simulation_loop(iterations=10):\n",
        "    truck_platooning = TruckPlatooning()\n",
        "    for _ in range(iterations):\n",
        "        truck_platooning.simulate()\n",
        "\n",
        "# Run the simulation for a finite number of iterations\n",
        "main_simulation_loop(10)\n"
      ],
      "metadata": {
        "colab": {
          "base_uri": "https://localhost:8080/"
        },
        "id": "OCwxQSj9-wyE",
        "outputId": "72e1ec55-f5d6-4346-8675-220ce5db6062"
      },
      "execution_count": 2,
      "outputs": [
        {
          "output_type": "stream",
          "name": "stdout",
          "text": [
            "Current Lane: Start\n",
            "Changed to right lane.\n",
            "Returned to main lane.\n",
            "Current Lane: In_Lane\n",
            "Changed to right lane.\n",
            "Returned to main lane.\n",
            "Current Lane: In_Lane\n",
            "Changed to left lane.\n",
            "Returned to main lane.\n",
            "Current Lane: In_Lane\n",
            "Changed to right lane.\n",
            "Returned to main lane.\n",
            "Current Lane: In_Lane\n",
            "Changed to left lane.\n",
            "Returned to main lane.\n",
            "Current Lane: In_Lane\n",
            "Changed to left lane.\n",
            "Returned to main lane.\n",
            "Current Lane: In_Lane\n",
            "Changed to left lane.\n",
            "Returned to main lane.\n",
            "Current Lane: In_Lane\n",
            "Changed to right lane.\n",
            "Returned to main lane.\n",
            "Current Lane: In_Lane\n",
            "Changed to left lane.\n",
            "Returned to main lane.\n",
            "Current Lane: In_Lane\n",
            "Changed to left lane.\n",
            "Returned to main lane.\n"
          ]
        }
      ]
    }
  ]
}